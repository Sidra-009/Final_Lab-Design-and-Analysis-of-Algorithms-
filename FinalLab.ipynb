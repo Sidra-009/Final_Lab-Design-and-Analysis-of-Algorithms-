{
 "cells": [
  {
   "cell_type": "code",
   "execution_count": null,
   "id": "70e310df-6f72-4519-ae9c-97ea4ec6c9fc",
   "metadata": {},
   "outputs": [],
   "source": [
    "def bubble_sort(scores, order='ascending'):\n",
    "    n = len(scores)\n",
    "    swap_count = 0\n",
    "\n",
    "    for i in range(n):\n",
    "        swapped = False  \n",
    "        for j in range(0, n - i - 1):\n",
    "            if (order == 'ascending' and scores[j] > scores[j + 1]) or (order == 'descending' and scores[j] < scores[j + 1]):\n",
    "                # Swap the elements\n",
    "                scores[j], scores[j + 1] = scores[j + 1], scores[j]\n",
    "                swap_count += 1\n",
    "                swapped = True\n",
    "        if not swapped:\n",
    "            # If no swaps happened in this pass, the list is already sorted\n",
    "            print(f\"The list is already sorted in {order} order. No more sorting needed.\")\n",
    "            break\n",
    "\n",
    "    return scores, swap_count\n",
    "\n",
    "# Main Program\n",
    "scores = list(map(int, input(\"Enter student scores separated by spaces: \").split()))\n",
    "\n",
    "# Ascending Order\n",
    "sorted_scores_asc, swaps_asc = bubble_sort(scores.copy(), 'ascending')\n",
    "print(\"\\nSorted Scores in Ascending Order:\", sorted_scores_asc)\n",
    "print(\"Number of swaps made:\", swaps_asc)\n",
    "\n",
    "# Descending Order\n",
    "sorted_scores_desc, swaps_desc = bubble_sort(scores.copy(), 'descending')\n",
    "print(\"\\nSorted Scores in Descending Order:\", sorted_scores_desc)\n",
    "print(\"Number of swaps made:\", swaps_desc)\n"
   ]
  },
  {
   "cell_type": "code",
   "execution_count": null,
   "id": "5dcef607-01d1-4245-ac70-f3b2ee4b4241",
   "metadata": {},
   "outputs": [],
   "source": [
    "# Input Product Names and Prices\n",
    "products = []\n",
    "n = int(input(\"How many products do you want to enter? \"))\n",
    "\n",
    "for i in range(n):\n",
    "    name = input(f\"Enter name of product {i + 1}: \")\n",
    "    price = float(input(f\"Enter price of {name}: \"))\n",
    "    products.append((name, price))\n",
    "\n",
    "# Search Product by Name\n",
    "search_name = input(\"\\nEnter the product name to search: \")\n",
    "\n",
    "found = False\n",
    "for index, (name, price) in enumerate(products):\n",
    "    if name.lower() == search_name.lower():\n",
    "        print(f\"\\nProduct Found!\")\n",
    "        print(f\"Name: {name}\")\n",
    "        print(f\"Price: {price}\")\n",
    "        print(f\"Position in the list: {index + 1}\")\n",
    "        found = True\n",
    "        break\n",
    "\n",
    "if not found:\n",
    "    print(\"\\nProduct not available in the list.\")\n"
   ]
  }
 ],
 "metadata": {
  "kernelspec": {
   "display_name": "Python 3 (ipykernel)",
   "language": "python",
   "name": "python3"
  },
  "language_info": {
   "codemirror_mode": {
    "name": "ipython",
    "version": 3
   },
   "file_extension": ".py",
   "mimetype": "text/x-python",
   "name": "python",
   "nbconvert_exporter": "python",
   "pygments_lexer": "ipython3",
   "version": "3.11.7"
  }
 },
 "nbformat": 4,
 "nbformat_minor": 5
}
